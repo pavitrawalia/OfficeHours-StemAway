{
 "cells": [
  {
   "cell_type": "markdown",
   "metadata": {
    "colab_type": "text",
    "id": "yWSTkF4B4mhF"
   },
   "source": [
    "# Import necessary modules"
   ]
  },
  {
   "cell_type": "code",
   "execution_count": 2,
   "metadata": {
    "colab": {
     "base_uri": "https://localhost:8080/",
     "height": 367
    },
    "colab_type": "code",
    "executionInfo": {
     "elapsed": 603,
     "status": "error",
     "timestamp": 1592695667906,
     "user": {
      "displayName": "meganj stemaway",
      "photoUrl": "",
      "userId": "15636485560159763836"
     },
     "user_tz": 420
    },
    "id": "ezl9m49u4mhG",
    "outputId": "dbd55c0c-b57d-4a6c-8526-12845dc9d217"
   },
   "outputs": [],
   "source": [
    "# Used to generate requests from the website we are trying to scrap\n",
    "import requests\n",
    "# Library used to scrap the website data\n",
    "import bs4 as bs #beautifulsoup\n",
    "# Used to  is used to automate web browser interaction\n",
    "from selenium import webdriver\n",
    "from selenium.webdriver.chrome.options import Options\n"
   ]
  },
  {
   "cell_type": "markdown",
   "metadata": {
    "colab_type": "text",
    "id": "rgMPbvOu4mhK"
   },
   "source": [
    "# Page URL"
   ]
  },
  {
   "cell_type": "code",
   "execution_count": 11,
   "metadata": {
    "colab": {},
    "colab_type": "code",
    "id": "WSVMKM3Q4mhL"
   },
   "outputs": [],
   "source": [
    "# Storing the url\n",
    "url = 'https://forums.t-nation.com/latest'"
   ]
  },
  {
   "cell_type": "code",
   "execution_count": null,
   "metadata": {
    "colab": {
     "base_uri": "https://localhost:8080/",
     "height": 238
    },
    "colab_type": "code",
    "executionInfo": {
     "elapsed": 1142,
     "status": "error",
     "timestamp": 1592676675066,
     "user": {
      "displayName": "changhyunlee stemaway",
      "photoUrl": "",
      "userId": "00020600985016224545"
     },
     "user_tz": 240
    },
    "id": "Ame15A3-4mhO",
    "outputId": "241f7ad6-b211-4b8e-9c1e-0ab3643a264f"
   },
   "outputs": [],
   "source": [
    "# Creating a new Chrome Session for Selenium\n",
    "options = webdriver.ChromeOptions()\n",
    "driver = webdriver.Chrome(executable_path=\"./chromedriver_linux64/chromedriver\", options=options)\n",
    "driver.implicitly_wait(2)\n",
    "driver.get(url)"
   ]
  },
  {
   "cell_type": "markdown",
   "metadata": {
    "colab_type": "text",
    "id": "FRh9zGRi4mhR"
   },
   "source": [
    "# Categories "
   ]
  },
  {
   "cell_type": "code",
   "execution_count": 5,
   "metadata": {
    "colab": {},
    "colab_type": "code",
    "id": "EpQ-5pHn4mhS"
   },
   "outputs": [],
   "source": [
    "# Scraping the whole page \n",
    "page = driver.execute_script('return document.body.innerHTML')\n",
    "soup = bs.BeautifulSoup(''.join(page), 'html.parser')"
   ]
  },
  {
   "cell_type": "code",
   "execution_count": 6,
   "metadata": {
    "colab": {},
    "colab_type": "code",
    "id": "JTvQibkf4mhV"
   },
   "outputs": [],
   "source": [
    "category = soup.find_all(\"span\", {\"class\": \"category-name\"})\n",
    "list_of_categories=[]"
   ]
  },
  {
   "cell_type": "code",
   "execution_count": 7,
   "metadata": {
    "colab": {},
    "colab_type": "code",
    "id": "V-5-nhnG4mhX"
   },
   "outputs": [
    {
     "data": {
      "text/plain": [
       "['Forum Feedback',\n",
       " 'Training Logs',\n",
       " 'Supplements and Nutrition',\n",
       " 'Christian Thibaudeau Coaching',\n",
       " 'Jim Wendler 5/3/1 Coaching',\n",
       " 'Paul Carter Coaching',\n",
       " 'Bigger Stronger Leaner',\n",
       " 'Bodybuilding',\n",
       " 'Powerlifting',\n",
       " 'Figure Athletes',\n",
       " 'Powerful Women',\n",
       " 'Over 35 Lifter',\n",
       " 'Beginners',\n",
       " 'Combat',\n",
       " 'Conditioning',\n",
       " 'Olympic Lifting',\n",
       " 'Strongman',\n",
       " 'Injuries and Rehab',\n",
       " 'Off Topic',\n",
       " 'Politics and World Issues',\n",
       " 'Rate My Physique Photos',\n",
       " 'T Replacement',\n",
       " 'Pharma',\n",
       " 'Pharma',\n",
       " 'T Replacement',\n",
       " 'Training Logs',\n",
       " 'Pharma',\n",
       " 'Training Logs',\n",
       " 'Over 35 Lifter',\n",
       " 'Training Logs',\n",
       " 'Politics and World Issues',\n",
       " 'Over 35 Lifter',\n",
       " 'Politics and World Issues',\n",
       " 'Jim Wendler 5/3/1 Coaching',\n",
       " 'Pharma',\n",
       " 'Training Logs',\n",
       " 'Politics and World Issues',\n",
       " 'Combat',\n",
       " 'Christian Thibaudeau Coaching',\n",
       " 'Training Logs',\n",
       " 'Off Topic',\n",
       " 'Supplements and Nutrition',\n",
       " 'T Replacement']"
      ]
     },
     "execution_count": 7,
     "metadata": {},
     "output_type": "execute_result"
    }
   ],
   "source": [
    "for item in category:\n",
    "    list_of_categories.append(item.get_text())\n",
    "# to remove the repeating duplicate categories\n",
    "list_of_categories=list(set(list_of_categories))\n",
    "list_of_categories"
   ]
  },
  {
   "cell_type": "markdown",
   "metadata": {
    "colab_type": "text",
    "id": "ZdQa5V_Z4mhb"
   },
   "source": [
    "# Description of Categories"
   ]
  },
  {
   "cell_type": "code",
   "execution_count": 8,
   "metadata": {
    "colab": {},
    "colab_type": "code",
    "id": "6ZKxAaDJ4mhc"
   },
   "outputs": [],
   "source": [
    "description= soup.find_all(\"div\", {\"class\": \"category-description\"})\n",
    "description_of_categories=[]"
   ]
  },
  {
   "cell_type": "code",
   "execution_count": 9,
   "metadata": {
    "colab": {},
    "colab_type": "code",
    "id": "pafUZuHj4mhf"
   },
   "outputs": [
    {
     "data": {
      "text/plain": [
       "['Post your questions or issues regarding the technical functions of the website and forums. Constructive criticism (note the word constructive) and questions about site functions are welcome.',\n",
       " 'Start a training log for any goal. Keep track of your progress, stats, PRs, training details, nutrition plan, and supplements. Take a look at other logs to share tips and motivation.',\n",
       " 'Ask questions about your diet plan, discuss different approaches to nutrition, post recipes, and ask questions about general supplements.',\n",
       " \"Coach Christian Thibaudeau's exclusive free coaching forum. Ask questions about any of his intense programs, ask for a review of your current workout, and find more training advice.\",\n",
       " \"Coach Jim Wendler's free forum specifically dedicated to the 5/3/1 program. Ask about any of the different training templates, find out how to fine-tune 5/3/1 for your goals, and get feedback from other lifters who've followed the plan.\",\n",
       " 'Coach Paul Carter has his own T Nation exclusive Q&A forum. Ask how to build size and strength using his straightforward blend of old school methods with the latest science.',\n",
       " 'Becoming bigger, stronger, and/or leaner is what 95% of us are looking for. Ask about your current training plan, find out which program would be best for your goals, or post form check videos to get technique tips.',\n",
       " \"Discuss competitive bodybuilding, men's physique, and classic physique competitions. Have a show coming up? Start a thread to log your progress and get feedback from experienced competitors.\",\n",
       " 'Discuss competitive powerlifting, ask about the best methods for building strength in the big three, and get advice for training up to your next meet.',\n",
       " \"Discuss competitive women's figure, fitness, and bikini competitions and the training and nutrition required to look like those physique athletes.\",\n",
       " \"Get advice specifically for women's needs. No three-pound weights or step aerobics here. It's just intense training. If you're a lifter who happens to be female, start your training log here to share training tips, nutrition advice, and motivation with women who are serious about getting results.\",\n",
       " 'This is the place for the lifter with plenty of \"life experience\", whether you\\'ve just started training or have been at it for 20 years. Discuss the tips and tricks that get top performance from a time-tested body or start a log here to join men and women who prove age really is just a number.',\n",
       " \"Everyone in the gym was a beginner at some point. Ask questions and let more experienced lifters help you figure out the best training and nutrition plan for your goal. You can also post form check videos to make sure you're using proper technique from the start.\",\n",
       " 'Discuss professional and amateur combat sports (boxing, MMA, Brazilian Jiujitsu, Muay Thai, etc.) as well as getting tips to balance specific strength and conditioning work with your own martial arts practice.',\n",
       " 'Post your questions about cardio/conditioning exercises and plans, bodyweight-only training, kettlebell and other non-barbell lifting methods, obstacle racing, and any training that pushes the endurance just as much as the muscles.',\n",
       " 'Discuss competitive Olympic-style weightlifting, ask about the best way to train the snatch and clean & jerk, and post form check videos to refine your technique in the competitive lifts.',\n",
       " 'Discuss competitive strongman contests, ask about how to use the various implements and how to best train for the balance of strength, speed, and endurance strongmen need. Entered a show? Start a thread to get advice and encouragement from other competitors.',\n",
       " \"An injury doesn't have to keep you out of action forever. Post the details of the problem you've suffered and get advice from other lifters who may have gone through it already. This advice is not a substitute for professional medical care. Consider listening to your doctor when treating an injury.\",\n",
       " \"Need a break from talking about lifting and diet? This is where you can discuss anything from sports teams to movies and television to your relationship troubles. Looking for new music for your workout playlist? Trying to find jeans that fit your monster quads? It's all off-topic.\",\n",
       " 'Political situations, national and international issues, and religious topics. All the heavy subjects you\\'re not supposed to discuss in \"polite company\", discuss here. State your views, argue your side, and defend your positions, but remember to keep it civil.',\n",
       " \"Post your before and afters to get an honest, brutally honest, assessment of how you've done building your physique and what still needs work. NSFW pics will not be allowed.\",\n",
       " 'Ask questions about Testosterone Replacement Therapy, get help interpreting your lab bloodwork results, and discuss treatment options with lifters going through the same situation. This forum is not a substitute for professional medical advice.',\n",
       " 'This is not a place to ask about sources, labs, websites, distributors, or brands. This forum is intended for the discussion of safe and effective methods of using anabolics and managing post-cycle therapy (PCT).']"
      ]
     },
     "execution_count": 9,
     "metadata": {},
     "output_type": "execute_result"
    }
   ],
   "source": [
    "for item in description:\n",
    "    # strip to remove leading and trailing whitespaces\n",
    "    description_of_categories.append(item.get_text().strip())\n",
    "# to remove the repeating duplicate categories description\n",
    "list_of_categories=list(set(description_of_categories))\n",
    "description_of_categories"
   ]
  },
  {
   "cell_type": "markdown",
   "metadata": {
    "colab_type": "text",
    "id": "qs7lbKYo4mhh"
   },
   "source": [
    "# Navigating to the latest page"
   ]
  },
  {
   "cell_type": "code",
   "execution_count": 10,
   "metadata": {
    "colab": {},
    "colab_type": "code",
    "id": "SrxPfd-l4mhm"
   },
   "outputs": [
    {
     "ename": "WebDriverException",
     "evalue": "Message: chrome not reachable\n  (Session info: chrome=84.0.4147.89)\n",
     "output_type": "error",
     "traceback": [
      "\u001b[0;31m---------------------------------------------------------------------------\u001b[0m",
      "\u001b[0;31mWebDriverException\u001b[0m                        Traceback (most recent call last)",
      "\u001b[0;32m<ipython-input-10-0460efb1562b>\u001b[0m in \u001b[0;36m<module>\u001b[0;34m\u001b[0m\n\u001b[1;32m      1\u001b[0m \u001b[0;31m# Storing the url\u001b[0m\u001b[0;34m\u001b[0m\u001b[0;34m\u001b[0m\u001b[0;34m\u001b[0m\u001b[0m\n\u001b[1;32m      2\u001b[0m \u001b[0murl\u001b[0m \u001b[0;34m=\u001b[0m \u001b[0;34m'https://forums.t-nation.com/latest'\u001b[0m\u001b[0;34m\u001b[0m\u001b[0;34m\u001b[0m\u001b[0m\n\u001b[0;32m----> 3\u001b[0;31m \u001b[0mdriver\u001b[0m\u001b[0;34m.\u001b[0m\u001b[0mget\u001b[0m\u001b[0;34m(\u001b[0m\u001b[0murl\u001b[0m\u001b[0;34m)\u001b[0m\u001b[0;34m\u001b[0m\u001b[0;34m\u001b[0m\u001b[0m\n\u001b[0m",
      "\u001b[0;32m~/my_project_env/lib/python3.6/site-packages/selenium/webdriver/remote/webdriver.py\u001b[0m in \u001b[0;36mget\u001b[0;34m(self, url)\u001b[0m\n\u001b[1;32m    331\u001b[0m         \u001b[0mLoads\u001b[0m \u001b[0ma\u001b[0m \u001b[0mweb\u001b[0m \u001b[0mpage\u001b[0m \u001b[0;32min\u001b[0m \u001b[0mthe\u001b[0m \u001b[0mcurrent\u001b[0m \u001b[0mbrowser\u001b[0m \u001b[0msession\u001b[0m\u001b[0;34m.\u001b[0m\u001b[0;34m\u001b[0m\u001b[0;34m\u001b[0m\u001b[0m\n\u001b[1;32m    332\u001b[0m         \"\"\"\n\u001b[0;32m--> 333\u001b[0;31m         \u001b[0mself\u001b[0m\u001b[0;34m.\u001b[0m\u001b[0mexecute\u001b[0m\u001b[0;34m(\u001b[0m\u001b[0mCommand\u001b[0m\u001b[0;34m.\u001b[0m\u001b[0mGET\u001b[0m\u001b[0;34m,\u001b[0m \u001b[0;34m{\u001b[0m\u001b[0;34m'url'\u001b[0m\u001b[0;34m:\u001b[0m \u001b[0murl\u001b[0m\u001b[0;34m}\u001b[0m\u001b[0;34m)\u001b[0m\u001b[0;34m\u001b[0m\u001b[0;34m\u001b[0m\u001b[0m\n\u001b[0m\u001b[1;32m    334\u001b[0m \u001b[0;34m\u001b[0m\u001b[0m\n\u001b[1;32m    335\u001b[0m     \u001b[0;34m@\u001b[0m\u001b[0mproperty\u001b[0m\u001b[0;34m\u001b[0m\u001b[0;34m\u001b[0m\u001b[0m\n",
      "\u001b[0;32m~/my_project_env/lib/python3.6/site-packages/selenium/webdriver/remote/webdriver.py\u001b[0m in \u001b[0;36mexecute\u001b[0;34m(self, driver_command, params)\u001b[0m\n\u001b[1;32m    319\u001b[0m         \u001b[0mresponse\u001b[0m \u001b[0;34m=\u001b[0m \u001b[0mself\u001b[0m\u001b[0;34m.\u001b[0m\u001b[0mcommand_executor\u001b[0m\u001b[0;34m.\u001b[0m\u001b[0mexecute\u001b[0m\u001b[0;34m(\u001b[0m\u001b[0mdriver_command\u001b[0m\u001b[0;34m,\u001b[0m \u001b[0mparams\u001b[0m\u001b[0;34m)\u001b[0m\u001b[0;34m\u001b[0m\u001b[0;34m\u001b[0m\u001b[0m\n\u001b[1;32m    320\u001b[0m         \u001b[0;32mif\u001b[0m \u001b[0mresponse\u001b[0m\u001b[0;34m:\u001b[0m\u001b[0;34m\u001b[0m\u001b[0;34m\u001b[0m\u001b[0m\n\u001b[0;32m--> 321\u001b[0;31m             \u001b[0mself\u001b[0m\u001b[0;34m.\u001b[0m\u001b[0merror_handler\u001b[0m\u001b[0;34m.\u001b[0m\u001b[0mcheck_response\u001b[0m\u001b[0;34m(\u001b[0m\u001b[0mresponse\u001b[0m\u001b[0;34m)\u001b[0m\u001b[0;34m\u001b[0m\u001b[0;34m\u001b[0m\u001b[0m\n\u001b[0m\u001b[1;32m    322\u001b[0m             response['value'] = self._unwrap_value(\n\u001b[1;32m    323\u001b[0m                 response.get('value', None))\n",
      "\u001b[0;32m~/my_project_env/lib/python3.6/site-packages/selenium/webdriver/remote/errorhandler.py\u001b[0m in \u001b[0;36mcheck_response\u001b[0;34m(self, response)\u001b[0m\n\u001b[1;32m    240\u001b[0m                 \u001b[0malert_text\u001b[0m \u001b[0;34m=\u001b[0m \u001b[0mvalue\u001b[0m\u001b[0;34m[\u001b[0m\u001b[0;34m'alert'\u001b[0m\u001b[0;34m]\u001b[0m\u001b[0;34m.\u001b[0m\u001b[0mget\u001b[0m\u001b[0;34m(\u001b[0m\u001b[0;34m'text'\u001b[0m\u001b[0;34m)\u001b[0m\u001b[0;34m\u001b[0m\u001b[0;34m\u001b[0m\u001b[0m\n\u001b[1;32m    241\u001b[0m             \u001b[0;32mraise\u001b[0m \u001b[0mexception_class\u001b[0m\u001b[0;34m(\u001b[0m\u001b[0mmessage\u001b[0m\u001b[0;34m,\u001b[0m \u001b[0mscreen\u001b[0m\u001b[0;34m,\u001b[0m \u001b[0mstacktrace\u001b[0m\u001b[0;34m,\u001b[0m \u001b[0malert_text\u001b[0m\u001b[0;34m)\u001b[0m\u001b[0;34m\u001b[0m\u001b[0;34m\u001b[0m\u001b[0m\n\u001b[0;32m--> 242\u001b[0;31m         \u001b[0;32mraise\u001b[0m \u001b[0mexception_class\u001b[0m\u001b[0;34m(\u001b[0m\u001b[0mmessage\u001b[0m\u001b[0;34m,\u001b[0m \u001b[0mscreen\u001b[0m\u001b[0;34m,\u001b[0m \u001b[0mstacktrace\u001b[0m\u001b[0;34m)\u001b[0m\u001b[0;34m\u001b[0m\u001b[0;34m\u001b[0m\u001b[0m\n\u001b[0m\u001b[1;32m    243\u001b[0m \u001b[0;34m\u001b[0m\u001b[0m\n\u001b[1;32m    244\u001b[0m     \u001b[0;32mdef\u001b[0m \u001b[0m_value_or_default\u001b[0m\u001b[0;34m(\u001b[0m\u001b[0mself\u001b[0m\u001b[0;34m,\u001b[0m \u001b[0mobj\u001b[0m\u001b[0;34m,\u001b[0m \u001b[0mkey\u001b[0m\u001b[0;34m,\u001b[0m \u001b[0mdefault\u001b[0m\u001b[0;34m)\u001b[0m\u001b[0;34m:\u001b[0m\u001b[0;34m\u001b[0m\u001b[0;34m\u001b[0m\u001b[0m\n",
      "\u001b[0;31mWebDriverException\u001b[0m: Message: chrome not reachable\n  (Session info: chrome=84.0.4147.89)\n"
     ]
    }
   ],
   "source": [
    "# Storing the url\n",
    "url = 'https://forums.t-nation.com/latest'\n",
    "driver.get(url)"
   ]
  },
  {
   "cell_type": "code",
   "execution_count": 13,
   "metadata": {
    "colab": {},
    "colab_type": "code",
    "id": "g_pmNqBf4mhp"
   },
   "outputs": [],
   "source": [
    "# Scraping the whole page \n",
    "page = driver.execute_script('return document.body.innerHTML')\n",
    "soup = bs.BeautifulSoup(''.join(page), 'html.parser')"
   ]
  },
  {
   "cell_type": "markdown",
   "metadata": {
    "colab_type": "text",
    "id": "P03wOhcV4mht"
   },
   "source": [
    "# Titles of the posts"
   ]
  },
  {
   "cell_type": "code",
   "execution_count": 14,
   "metadata": {
    "colab": {},
    "colab_type": "code",
    "id": "k4PGChAr4mht"
   },
   "outputs": [],
   "source": [
    "title = soup.find_all(\"a\", {\"class\": \"title\"})\n",
    "list_of_titles=[]"
   ]
  },
  {
   "cell_type": "code",
   "execution_count": 15,
   "metadata": {
    "colab": {},
    "colab_type": "code",
    "id": "jqtZjZ8l4mhw"
   },
   "outputs": [
    {
     "data": {
      "text/plain": [
       "['The Daily Debacle (CL)',\n",
       " 'Has Cialis Stopped Working for Me?',\n",
       " 'Three Gorges Dam',\n",
       " 'Bodybuilding Home Gym Edition',\n",
       " 'Home Gym Costs - UK',\n",
       " 'Not done yet. (Strongman Koestrizer)',\n",
       " 'Barbells, Beer and Bob: How to Old',\n",
       " 'Is This Good Form for Overhead Plate Raises?',\n",
       " 'Starting from scratch after a long break',\n",
       " 'Continuing fat loss (Like to hear from you guys)',\n",
       " 'Lurking on a Dark Horse',\n",
       " 'Fit, Strong, Hard to Kill: The Supertotal Supercop',\n",
       " 'Simple Weightlifiting Routine For Beginner?',\n",
       " '80-90 Year Olds on TRT?',\n",
       " 'GorillaMon’s Gonna Get Sexy With It!',\n",
       " 'Barbells and Calisthenics. And Curls',\n",
       " 'CNS / Wholebody / Enjoyment',\n",
       " 'Starting a new cycle or not?',\n",
       " 'Eagle78 950 Training Log',\n",
       " 'The Return of Even More Movies You’ve Watched This Week III',\n",
       " 'Simo’s Training Log - Dangerous Dad V 2.0',\n",
       " 'Trying to Decide whether to Take Lexapro',\n",
       " 'Now I Have a Machine Gun, Ho-Ho-Ho',\n",
       " 'Wanna Be Powerlifter',\n",
       " 'Life After Hip Resurfacing',\n",
       " 'Realistic TRT Recomp Progress',\n",
       " 'Venturing Into The Meadows And Dropping A Gamma Bomb(ChongLordUno)',\n",
       " 'Flame Free Confession III: Even More Flame Free',\n",
       " 'My Strength Training Log',\n",
       " 'The Dadpool Files: Confessions of a Tr3yningBrah']"
      ]
     },
     "execution_count": 15,
     "metadata": {},
     "output_type": "execute_result"
    }
   ],
   "source": [
    "for item in title:\n",
    "    list_of_titles.append(item.get_text().strip())\n",
    "# to remove the repeating duplicate titles\n",
    "list_of_titles=list(set(list_of_titles))\n",
    "list_of_titles"
   ]
  },
  {
   "cell_type": "code",
   "execution_count": null,
   "metadata": {
    "colab": {},
    "colab_type": "code",
    "id": "QZHT37v34mhz"
   },
   "outputs": [],
   "source": []
  }
 ],
 "metadata": {
  "colab": {
   "name": "ML-Team2-Task-WebScraping.ipynb",
   "provenance": []
  },
  "kernelspec": {
   "display_name": "Python 3",
   "language": "python",
   "name": "python3"
  },
  "language_info": {
   "codemirror_mode": {
    "name": "ipython",
    "version": 3
   },
   "file_extension": ".py",
   "mimetype": "text/x-python",
   "name": "python",
   "nbconvert_exporter": "python",
   "pygments_lexer": "ipython3",
   "version": "3.6.8"
  }
 },
 "nbformat": 4,
 "nbformat_minor": 1
}
