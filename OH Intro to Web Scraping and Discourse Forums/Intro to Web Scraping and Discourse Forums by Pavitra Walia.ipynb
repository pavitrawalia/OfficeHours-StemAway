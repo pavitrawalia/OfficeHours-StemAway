{
 "cells": [
  {
   "cell_type": "markdown",
   "metadata": {},
   "source": [
    "# Web Scraping?\n"
   ]
  },
  {
   "cell_type": "markdown",
   "metadata": {},
   "source": [
    "1. Discourse Forums\n",
    "Discourse communities directory: https://www.discoursehub.com/communities/\n",
    "2. Introduction to beautifull soup \n",
    "3. Using Selenium for automation"
   ]
  },
  {
   "cell_type": "markdown",
   "metadata": {},
   "source": [
    "# Request Module"
   ]
  },
  {
   "cell_type": "markdown",
   "metadata": {},
   "source": [
    "Requests is a Python module that you can use to send all kinds of HTTP requests."
   ]
  },
  {
   "cell_type": "markdown",
   "metadata": {},
   "source": [
    "# Web drivers for Selenium"
   ]
  },
  {
   "cell_type": "markdown",
   "metadata": {},
   "source": [
    "Install Browser Drivers to use Selenium: Open this link and download the driver of the browser you are using (Chrome/Edge/FireFox/Safari) https://pypi.org/project/selenium/ Place the executable file in the same directory as your notebook/program."
   ]
  },
  {
   "cell_type": "markdown",
   "metadata": {},
   "source": [
    "# Web Scraping Resources\n",
    "\n",
    "Basic BeautifulSoup Tutorials:\n",
    "https://www.crummy.com/software/BeautifulSoup/bs4/doc/\n",
    "https://www.digitalocean.com/community/tutorials/how-to-scrape-web-pages-with-beautiful-soup-and-python-3\n",
    "https://realpython.com/beautiful-soup-web-scraper-python/\n",
    "https://www.geeksforgeeks.org/implementing-web-scraping-python-beautiful-soup/\n",
    "https://codeburst.io/web-scraping-101-with-python-beautiful-soup-bb617be1f486\n",
    "https://www.learndatasci.com/tutorials/ultimate-guide-web-scraping-w-python-requests-and-beautifulsoup/\n",
    "\n",
    "Using BeautifulSoup with Selenium:\n",
    "https://towardsdatascience.com/web-scraping-using-selenium-and-beautifulsoup-99195cd70a58\n",
    "https://towardsdatascience.com/in-10-minutes-web-scraping-with-beautiful-soup-and-selenium-for-data-professionals-8de169d36319\n",
    "https://medium.com/ymedialabs-innovation/web-scraping-using-beautiful-soup-and-selenium-for-dynamic-page-2f8ad15efe25\n",
    "https://www.freecodecamp.org/news/better-web-scraping-in-python-with-selenium-beautiful-soup-and-pandas-d6390592e251/\n",
    "https://code.tutsplus.com/tutorials/modern-web-scraping-with-beautifulsoup-and-selenium--cms-30486\n",
    "https://swethatanamala.github.io/2018/09/01/web-scraping-using-python-selenium-and-beautiful-soup/\n",
    "https://able.bio/rhett/web-scraping-with-python-using-beautiful-soup-and-selenium--44jqsra\n",
    "\n",
    "Credits: Shruti"
   ]
  },
  {
   "cell_type": "code",
   "execution_count": null,
   "metadata": {},
   "outputs": [],
   "source": []
  }
 ],
 "metadata": {
  "kernelspec": {
   "display_name": "Python 3",
   "language": "python",
   "name": "python3"
  },
  "language_info": {
   "codemirror_mode": {
    "name": "ipython",
    "version": 3
   },
   "file_extension": ".py",
   "mimetype": "text/x-python",
   "name": "python",
   "nbconvert_exporter": "python",
   "pygments_lexer": "ipython3",
   "version": "3.6.8"
  }
 },
 "nbformat": 4,
 "nbformat_minor": 2
}
